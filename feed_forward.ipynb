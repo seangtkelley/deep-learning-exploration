{
 "cells": [
  {
   "cell_type": "code",
   "execution_count": 3,
   "metadata": {},
   "outputs": [],
   "source": [
    "import numpy as np"
   ]
  },
  {
   "cell_type": "code",
   "execution_count": 28,
   "metadata": {},
   "outputs": [],
   "source": [
    "class NN():\n",
    "    def __init__(self, input_shape, hidden_layer_perceptrons):\n",
    "        # seed so random numbers are the same\n",
    "        np.random.seed(1)\n",
    "        \n",
    "        # create input layer\n",
    "        self.weights = [\n",
    "            2*np.random.random(input_shape) - 1\n",
    "        ]\n",
    "                \n",
    "        # create hidden layers\n",
    "        for perceptrons in hidden_layer_perceptrons:\n",
    "            self.weights.append(2*np.random.random((perceptrons, 1)) - 1)\n",
    "            \n",
    "        # create layer outputs\n",
    "        self.layer_outputs = []\n",
    "            \n",
    "        print(self.weights)\n",
    "        \n",
    "\n",
    "    def activate(self, x, deriv=False):\n",
    "        if deriv:\n",
    "            return 1 - (np.tanh(x))**2\n",
    "        else:\n",
    "            return np.tanh(x)\n",
    "        \n",
    "        \n",
    "    def loss(self, labels, predictions):\n",
    "        return (0.5*((labels - predictions)**2))\n",
    "    \n",
    "    \n",
    "    def forward_prop(self, data):\n",
    "        # compute layer outputs\n",
    "        self.layer_outputs = [data]\n",
    "        for i in range(len(self.weights)):\n",
    "            self.layer_outputs.append(self.activate(np.dot(self.layer_outputs[i], self.weights[i])))\n",
    "            \n",
    "        return self.layer_outputs[-1]\n",
    "            \n",
    "            \n",
    "    def backward_prop(self, labels, predictions):\n",
    "            # compute errors\n",
    "            prev_grad = 0\n",
    "            for i in range(len(self.weights)-1, -1, -1):\n",
    "                if i == len(self.weights)-1:\n",
    "                    error = self.loss(labels, predictions)\n",
    "                else:\n",
    "                    error = prev_grad.dot(self.weights[i].T)\n",
    "                \n",
    "                gradient = error*self.activate(self.layer_outputs[i], deriv=True)\n",
    "                \n",
    "                self.weights[i] += self.layer_output[i].T.dot(gradient)\n",
    "                \n",
    "                prev_grad = gradient\n",
    "            \n",
    "            return errors[-1]\n",
    "    \n",
    "    \n",
    "    def train(self, X, y, epochs=50):\n",
    "        for i in range(epochs):\n",
    "            # forward step\n",
    "            predictions = self.forward_prop(X)\n",
    "            \n",
    "            # backward step\n",
    "            print(self.backward_prop(X, y))\n",
    "            \n",
    "    \n",
    "    \n",
    "    def predict(self, X):\n",
    "        return self.forward_pass(X)\n",
    "    "
   ]
  },
  {
   "cell_type": "code",
   "execution_count": 29,
   "metadata": {},
   "outputs": [
    {
     "name": "stdout",
     "output_type": "stream",
     "text": [
      "[array([[-0.16595599,  0.44064899, -0.99977125, -0.39533485],\n",
      "       [-0.70648822, -0.81532281, -0.62747958, -0.30887855],\n",
      "       [-0.20646505,  0.07763347, -0.16161097,  0.370439  ]]), array([[-0.5910955 ],\n",
      "       [ 0.75623487],\n",
      "       [-0.94522481],\n",
      "       [ 0.34093502]])]\n"
     ]
    },
    {
     "ename": "ValueError",
     "evalue": "operands could not be broadcast together with shapes (4,3) (4,4) ",
     "output_type": "error",
     "traceback": [
      "\u001b[0;31m---------------------------------------------------------------------------\u001b[0m",
      "\u001b[0;31mValueError\u001b[0m                                Traceback (most recent call last)",
      "\u001b[0;32m<ipython-input-29-d70610932e91>\u001b[0m in \u001b[0;36m<module>\u001b[0;34m()\u001b[0m\n\u001b[1;32m     11\u001b[0m \u001b[0mnn\u001b[0m \u001b[0;34m=\u001b[0m \u001b[0mNN\u001b[0m\u001b[0;34m(\u001b[0m\u001b[0;34m(\u001b[0m\u001b[0;36m3\u001b[0m\u001b[0;34m,\u001b[0m \u001b[0;36m4\u001b[0m\u001b[0;34m)\u001b[0m\u001b[0;34m,\u001b[0m \u001b[0;34m(\u001b[0m\u001b[0;36m4\u001b[0m\u001b[0;34m,\u001b[0m\u001b[0;34m)\u001b[0m\u001b[0;34m)\u001b[0m\u001b[0;34m\u001b[0m\u001b[0m\n\u001b[1;32m     12\u001b[0m \u001b[0;34m\u001b[0m\u001b[0m\n\u001b[0;32m---> 13\u001b[0;31m \u001b[0mnn\u001b[0m\u001b[0;34m.\u001b[0m\u001b[0mtrain\u001b[0m\u001b[0;34m(\u001b[0m\u001b[0minput_data\u001b[0m\u001b[0;34m,\u001b[0m \u001b[0moutput_labels\u001b[0m\u001b[0;34m)\u001b[0m\u001b[0;34m\u001b[0m\u001b[0m\n\u001b[0m",
      "\u001b[0;32m<ipython-input-28-20c22b802838>\u001b[0m in \u001b[0;36mtrain\u001b[0;34m(self, X, y, epochs)\u001b[0m\n\u001b[1;32m     63\u001b[0m \u001b[0;34m\u001b[0m\u001b[0m\n\u001b[1;32m     64\u001b[0m             \u001b[0;31m# backward step\u001b[0m\u001b[0;34m\u001b[0m\u001b[0;34m\u001b[0m\u001b[0m\n\u001b[0;32m---> 65\u001b[0;31m             \u001b[0mprint\u001b[0m\u001b[0;34m(\u001b[0m\u001b[0mself\u001b[0m\u001b[0;34m.\u001b[0m\u001b[0mbackward_prop\u001b[0m\u001b[0;34m(\u001b[0m\u001b[0mX\u001b[0m\u001b[0;34m,\u001b[0m \u001b[0my\u001b[0m\u001b[0;34m)\u001b[0m\u001b[0;34m)\u001b[0m\u001b[0;34m\u001b[0m\u001b[0m\n\u001b[0m\u001b[1;32m     66\u001b[0m \u001b[0;34m\u001b[0m\u001b[0m\n\u001b[1;32m     67\u001b[0m \u001b[0;34m\u001b[0m\u001b[0m\n",
      "\u001b[0;32m<ipython-input-28-20c22b802838>\u001b[0m in \u001b[0;36mbackward_prop\u001b[0;34m(self, labels, predictions)\u001b[0m\n\u001b[1;32m     48\u001b[0m                     \u001b[0merror\u001b[0m \u001b[0;34m=\u001b[0m \u001b[0mprev_grad\u001b[0m\u001b[0;34m.\u001b[0m\u001b[0mdot\u001b[0m\u001b[0;34m(\u001b[0m\u001b[0mself\u001b[0m\u001b[0;34m.\u001b[0m\u001b[0mweights\u001b[0m\u001b[0;34m[\u001b[0m\u001b[0mi\u001b[0m\u001b[0;34m]\u001b[0m\u001b[0;34m.\u001b[0m\u001b[0mT\u001b[0m\u001b[0;34m)\u001b[0m\u001b[0;34m\u001b[0m\u001b[0m\n\u001b[1;32m     49\u001b[0m \u001b[0;34m\u001b[0m\u001b[0m\n\u001b[0;32m---> 50\u001b[0;31m                 \u001b[0mgradient\u001b[0m \u001b[0;34m=\u001b[0m \u001b[0merror\u001b[0m\u001b[0;34m*\u001b[0m\u001b[0mself\u001b[0m\u001b[0;34m.\u001b[0m\u001b[0mactivate\u001b[0m\u001b[0;34m(\u001b[0m\u001b[0mself\u001b[0m\u001b[0;34m.\u001b[0m\u001b[0mlayer_outputs\u001b[0m\u001b[0;34m[\u001b[0m\u001b[0mi\u001b[0m\u001b[0;34m]\u001b[0m\u001b[0;34m,\u001b[0m \u001b[0mderiv\u001b[0m\u001b[0;34m=\u001b[0m\u001b[0;32mTrue\u001b[0m\u001b[0;34m)\u001b[0m\u001b[0;34m\u001b[0m\u001b[0m\n\u001b[0m\u001b[1;32m     51\u001b[0m \u001b[0;34m\u001b[0m\u001b[0m\n\u001b[1;32m     52\u001b[0m                 \u001b[0mself\u001b[0m\u001b[0;34m.\u001b[0m\u001b[0mweights\u001b[0m\u001b[0;34m[\u001b[0m\u001b[0mi\u001b[0m\u001b[0;34m]\u001b[0m \u001b[0;34m+=\u001b[0m \u001b[0mself\u001b[0m\u001b[0;34m.\u001b[0m\u001b[0mlayer_output\u001b[0m\u001b[0;34m[\u001b[0m\u001b[0mi\u001b[0m\u001b[0;34m]\u001b[0m\u001b[0;34m.\u001b[0m\u001b[0mT\u001b[0m\u001b[0;34m.\u001b[0m\u001b[0mdot\u001b[0m\u001b[0;34m(\u001b[0m\u001b[0mgradient\u001b[0m\u001b[0;34m)\u001b[0m\u001b[0;34m\u001b[0m\u001b[0m\n",
      "\u001b[0;31mValueError\u001b[0m: operands could not be broadcast together with shapes (4,3) (4,4) "
     ]
    }
   ],
   "source": [
    "input_data = np.array([[0,0,1],\n",
    "                       [0,1,1],\n",
    "                       [1,0,1],\n",
    "                       [1,1,1]])\n",
    "                \n",
    "output_labels = np.array([[0],\n",
    "                          [1],\n",
    "                          [1],\n",
    "                          [0]])\n",
    "\n",
    "nn = NN((3, 4), (6, 6, 4))\n",
    "\n",
    "nn.train(input_data, output_labels)"
   ]
  },
  {
   "cell_type": "code",
   "execution_count": null,
   "metadata": {},
   "outputs": [],
   "source": []
  }
 ],
 "metadata": {
  "kernelspec": {
   "display_name": "Python 3",
   "language": "python",
   "name": "python3"
  },
  "language_info": {
   "codemirror_mode": {
    "name": "ipython",
    "version": 3
   },
   "file_extension": ".py",
   "mimetype": "text/x-python",
   "name": "python",
   "nbconvert_exporter": "python",
   "pygments_lexer": "ipython3",
   "version": "3.6.3"
  }
 },
 "nbformat": 4,
 "nbformat_minor": 2
}
