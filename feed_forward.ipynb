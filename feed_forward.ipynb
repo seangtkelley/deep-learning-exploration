{
 "cells": [
  {
   "cell_type": "code",
   "execution_count": 19,
   "metadata": {},
   "outputs": [],
   "source": [
    "import numpy as np"
   ]
  },
  {
   "cell_type": "code",
   "execution_count": 30,
   "metadata": {},
   "outputs": [],
   "source": [
    "class DenseLayer():\n",
    "    def __init__(self, number_of_neurons, number_of_inputs_per_neuron):\n",
    "        self.synaptic_weights = 2 * np.random.random((number_of_inputs_per_neuron, number_of_neurons)) - 1"
   ]
  },
  {
   "cell_type": "code",
   "execution_count": 36,
   "metadata": {},
   "outputs": [],
   "source": [
    "class NN():\n",
    "    def __init__(self, layers, learnrate):\n",
    "        # seed so random numbers are the same\n",
    "        np.random.seed(1)\n",
    "        \n",
    "        self.weights = layers\n",
    "            \n",
    "        # create layer outputs\n",
    "        self.layer_outputs = []\n",
    "        \n",
    "        # set learn rate\n",
    "        self.learnrate = learnrate\n",
    "            \n",
    "        print([x.synaptic_weights.shape for x in self.weights])\n",
    "        \n",
    "\n",
    "    def activate(self, x, deriv=False):\n",
    "        if deriv:\n",
    "            return 1 - (np.tanh(x))**2\n",
    "        else:\n",
    "            return np.tanh(x)\n",
    "    \n",
    "    def forward_prop(self, data):\n",
    "        # compute layer outputs\n",
    "        self.layer_outputs = [data]\n",
    "        for i in range(len(self.weights)):\n",
    "            self.layer_outputs.append(self.activate(np.dot(self.layer_outputs[i], self.weights[i].synaptic_weights)))\n",
    "        return self.layer_outputs[-1]\n",
    "    \n",
    "    def train(self, training_set_inputs, training_set_outputs, epochs):\n",
    "        for e in range(epochs):\n",
    "            # Pass the training set through our neural network\n",
    "            output = self.forward_prop(training_set_inputs)\n",
    "\n",
    "            # Calculate the error for layer 2 (The difference between the desired output\n",
    "            # and the predicted output).\n",
    "            output_error = training_set_outputs - output\n",
    "            output_delta = output_error * self.activate(output, deriv=True)\n",
    "\n",
    "            # Calculate the error for layer 1 (By looking at the weights in layer 1,\n",
    "            # we can determine by how much layer 1 contributed to the error in layer 2).\n",
    "            prev_delta = output_delta\n",
    "            layer_adjustments = []\n",
    "            for layer in range(len(self.weights)-2, -1, -1):\n",
    "                layer_error = prev_delta.dot(self.weights[layer+1].synaptic_weights.T)\n",
    "                layer_delta = layer_error * self.activate(self.layer_outputs[layer], deriv=True)\n",
    "\n",
    "                # Calculate how much to adjust the weights by\n",
    "                if layer == 0:\n",
    "                    layer_adjustment = training_set_inputs.T.dot(layer_delta)\n",
    "                else:\n",
    "                    layer_adjustment = self.layer_outputs[layer-1].T.dot(layer_delta)\n",
    "                    \n",
    "                layer_adjustments.insert(0, layer_adjustment)\n",
    "                \n",
    "                prev_delta = layer_delta\n",
    "\n",
    "            # Adjust the weights.\n",
    "            for layer in range(len(self.weights)):\n",
    "                print(self.weights[layer].synaptic_weights)\n",
    "                print(layer_adjustments[layer])\n",
    "                \n",
    "                self.weights[layer].synaptic_weights += layer_adjustments[layer]\n",
    "            \n",
    "            # print MSE\n",
    "            if e % (epochs / 10) == 0:\n",
    "                loss = np.mean((output - targets) ** 2)\n",
    "\n",
    "                if 'last_loss' in locals() and last_loss < loss:\n",
    "                    print(\"Train loss: \", loss, \"  WARNING - Loss Increasing\")\n",
    "                else:\n",
    "                    print(\"Train loss: \", loss)\n",
    "                last_loss = loss\n",
    "            \n",
    "    \n",
    "    \n",
    "    def predict(self, X):\n",
    "        return self.forward_prop(X)\n",
    "    "
   ]
  },
  {
   "cell_type": "code",
   "execution_count": 32,
   "metadata": {},
   "outputs": [
    {
     "data": {
      "text/plain": [
       "(4, 1)"
      ]
     },
     "execution_count": 32,
     "metadata": {},
     "output_type": "execute_result"
    }
   ],
   "source": [
    "input_data = np.array([[0,0,1],\n",
    "                       [0,1,1],\n",
    "                       [1,0,1],\n",
    "                       [1,1,1]])\n",
    "                \n",
    "output_labels = np.array([[0],\n",
    "                          [1],\n",
    "                          [1],\n",
    "                          [0]])\n",
    "\n",
    "output_labels.shape"
   ]
  },
  {
   "cell_type": "code",
   "execution_count": 33,
   "metadata": {},
   "outputs": [
    {
     "name": "stdout",
     "output_type": "stream",
     "text": [
      "[(3, 4), (4, 1)]\n"
     ]
    }
   ],
   "source": [
    "layer1 = DenseLayer(4, 3)\n",
    "layer2 = DenseLayer(1, 4)\n",
    "\n",
    "nn = NN((layer1, layer2), 0.005)"
   ]
  },
  {
   "cell_type": "code",
   "execution_count": 34,
   "metadata": {},
   "outputs": [
    {
     "data": {
      "text/plain": [
       "(<__main__.DenseLayer at 0x7f1d040787b8>,\n",
       " <__main__.DenseLayer at 0x7f1d04078d30>)"
      ]
     },
     "execution_count": 34,
     "metadata": {},
     "output_type": "execute_result"
    }
   ],
   "source": [
    "nn.weights"
   ]
  },
  {
   "cell_type": "code",
   "execution_count": 35,
   "metadata": {},
   "outputs": [
    {
     "ename": "ValueError",
     "evalue": "operands could not be broadcast together with shapes (4,4) (4,3) ",
     "output_type": "error",
     "traceback": [
      "\u001b[0;31m---------------------------------------------------------------------------\u001b[0m",
      "\u001b[0;31mValueError\u001b[0m                                Traceback (most recent call last)",
      "\u001b[0;32m<ipython-input-35-562e81d8be00>\u001b[0m in \u001b[0;36m<module>\u001b[0;34m()\u001b[0m\n\u001b[0;32m----> 1\u001b[0;31m \u001b[0mnn\u001b[0m\u001b[0;34m.\u001b[0m\u001b[0mtrain\u001b[0m\u001b[0;34m(\u001b[0m\u001b[0minput_data\u001b[0m\u001b[0;34m,\u001b[0m \u001b[0moutput_labels\u001b[0m\u001b[0;34m,\u001b[0m \u001b[0;36m50\u001b[0m\u001b[0;34m)\u001b[0m\u001b[0;34m\u001b[0m\u001b[0m\n\u001b[0m",
      "\u001b[0;32m<ipython-input-31-b50b3b9e77fa>\u001b[0m in \u001b[0;36mtrain\u001b[0;34m(self, training_set_inputs, training_set_outputs, epochs)\u001b[0m\n\u001b[1;32m     44\u001b[0m             \u001b[0;32mfor\u001b[0m \u001b[0mlayer\u001b[0m \u001b[0;32min\u001b[0m \u001b[0mrange\u001b[0m\u001b[0;34m(\u001b[0m\u001b[0mlen\u001b[0m\u001b[0;34m(\u001b[0m\u001b[0mself\u001b[0m\u001b[0;34m.\u001b[0m\u001b[0mweights\u001b[0m\u001b[0;34m)\u001b[0m\u001b[0;34m-\u001b[0m\u001b[0;36m2\u001b[0m\u001b[0;34m,\u001b[0m \u001b[0;34m-\u001b[0m\u001b[0;36m1\u001b[0m\u001b[0;34m,\u001b[0m \u001b[0;34m-\u001b[0m\u001b[0;36m1\u001b[0m\u001b[0;34m)\u001b[0m\u001b[0;34m:\u001b[0m\u001b[0;34m\u001b[0m\u001b[0m\n\u001b[1;32m     45\u001b[0m                 \u001b[0mlayer_error\u001b[0m \u001b[0;34m=\u001b[0m \u001b[0mprev_delta\u001b[0m\u001b[0;34m.\u001b[0m\u001b[0mdot\u001b[0m\u001b[0;34m(\u001b[0m\u001b[0mself\u001b[0m\u001b[0;34m.\u001b[0m\u001b[0mweights\u001b[0m\u001b[0;34m[\u001b[0m\u001b[0mlayer\u001b[0m\u001b[0;34m+\u001b[0m\u001b[0;36m1\u001b[0m\u001b[0;34m]\u001b[0m\u001b[0;34m.\u001b[0m\u001b[0msynaptic_weights\u001b[0m\u001b[0;34m.\u001b[0m\u001b[0mT\u001b[0m\u001b[0;34m)\u001b[0m\u001b[0;34m\u001b[0m\u001b[0m\n\u001b[0;32m---> 46\u001b[0;31m                 \u001b[0mlayer_delta\u001b[0m \u001b[0;34m=\u001b[0m \u001b[0mlayer_error\u001b[0m \u001b[0;34m*\u001b[0m \u001b[0mself\u001b[0m\u001b[0;34m.\u001b[0m\u001b[0mactivate\u001b[0m\u001b[0;34m(\u001b[0m\u001b[0mself\u001b[0m\u001b[0;34m.\u001b[0m\u001b[0mlayer_outputs\u001b[0m\u001b[0;34m[\u001b[0m\u001b[0mlayer\u001b[0m\u001b[0;34m]\u001b[0m\u001b[0;34m,\u001b[0m \u001b[0mderiv\u001b[0m\u001b[0;34m=\u001b[0m\u001b[0;32mTrue\u001b[0m\u001b[0;34m)\u001b[0m\u001b[0;34m\u001b[0m\u001b[0m\n\u001b[0m\u001b[1;32m     47\u001b[0m \u001b[0;34m\u001b[0m\u001b[0m\n\u001b[1;32m     48\u001b[0m                 \u001b[0;31m# Calculate how much to adjust the weights by\u001b[0m\u001b[0;34m\u001b[0m\u001b[0;34m\u001b[0m\u001b[0m\n",
      "\u001b[0;31mValueError\u001b[0m: operands could not be broadcast together with shapes (4,4) (4,3) "
     ]
    }
   ],
   "source": [
    "nn.train(input_data, output_labels, 50)"
   ]
  },
  {
   "cell_type": "code",
   "execution_count": null,
   "metadata": {},
   "outputs": [],
   "source": []
  }
 ],
 "metadata": {
  "kernelspec": {
   "display_name": "Python 3",
   "language": "python",
   "name": "python3"
  },
  "language_info": {
   "codemirror_mode": {
    "name": "ipython",
    "version": 3
   },
   "file_extension": ".py",
   "mimetype": "text/x-python",
   "name": "python",
   "nbconvert_exporter": "python",
   "pygments_lexer": "ipython3",
   "version": "3.6.5"
  }
 },
 "nbformat": 4,
 "nbformat_minor": 2
}
