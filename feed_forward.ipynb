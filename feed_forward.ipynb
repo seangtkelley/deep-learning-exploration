{
 "cells": [
  {
   "cell_type": "code",
   "execution_count": 3,
   "metadata": {},
   "outputs": [],
   "source": [
    "import numpy as np"
   ]
  },
  {
   "cell_type": "code",
   "execution_count": 161,
   "metadata": {},
   "outputs": [],
   "source": [
    "class NN():\n",
    "    def __init__(self, input_shape, output_shape, layer_perceptrons):\n",
    "        # seed so random numbers are the same\n",
    "        np.random.seed(1)\n",
    "        \n",
    "        # create input layer\n",
    "        self.weights = [\n",
    "            2*np.random.random((layer_perceptrons[0], input_shape[1])) - 1\n",
    "        ]\n",
    "                \n",
    "        # create hidden layers\n",
    "        for i in range(1, len(layer_perceptrons), 1):\n",
    "            self.weights.append(2*np.random.random((layer_perceptrons[i], layer_perceptrons[i-1])) - 1)\n",
    "            \n",
    "        # create output layer\n",
    "        self.weights.append(2*np.random.random((output_shape[1], layer_perceptrons[-1])) - 1)\n",
    "            \n",
    "        # create layer outputs\n",
    "        self.layer_outputs = []\n",
    "            \n",
    "        print([x.shape for x in self.weights])\n",
    "        \n",
    "\n",
    "    def activate(self, x, deriv=False):\n",
    "        if deriv:\n",
    "            return 1 - (np.tanh(x))**2\n",
    "        else:\n",
    "            return np.tanh(x)\n",
    "        \n",
    "        \n",
    "    def loss(self, labels, predictions):\n",
    "        return (0.5*((labels - predictions)**2))\n",
    "    \n",
    "    \n",
    "    def forward_prop(self, data):\n",
    "        # compute layer outputs\n",
    "        self.layer_outputs = [data]\n",
    "        for i in range(len(self.weights)):\n",
    "            self.layer_outputs.append(self.activate(np.dot(self.layer_outputs[i], self.weights[i].T)))\n",
    "            \n",
    "        return self.layer_outputs[-1]\n",
    "            \n",
    "            \n",
    "    def backward_prop(self, labels, predictions):\n",
    "            # compute errors\n",
    "            prev_grad = 0\n",
    "            for i in range(len(self.weights)-1, -1, -1):\n",
    "                if i == len(self.weights)-1:\n",
    "                    error = self.loss(labels, predictions)\n",
    "                else:\n",
    "                    error = prev_grad.dot(self.weights[i].T)\n",
    "                \n",
    "                gradient = error*self.activate(self.layer_outputs[i+1], deriv=True)\n",
    "                \n",
    "                self.weights[i] += self.layer_outputs[i+1].T.dot(gradient)\n",
    "                \n",
    "                prev_grad = gradient\n",
    "            \n",
    "            return errors[-1]\n",
    "    \n",
    "    \n",
    "    def train(self, X, y, epochs=50):\n",
    "        for i in range(epochs):\n",
    "            # forward step\n",
    "            predictions = self.forward_prop(X)\n",
    "            \n",
    "            print(predictions.shape)\n",
    "            \n",
    "            print(self.layer_outputs)\n",
    "            \n",
    "            # backward step\n",
    "            print(self.backward_prop(y, predictions))\n",
    "            \n",
    "    \n",
    "    \n",
    "    def predict(self, X):\n",
    "        return self.forward_pass(X)\n",
    "    "
   ]
  },
  {
   "cell_type": "code",
   "execution_count": 162,
   "metadata": {},
   "outputs": [
    {
     "data": {
      "text/plain": [
       "(4, 1)"
      ]
     },
     "execution_count": 162,
     "metadata": {},
     "output_type": "execute_result"
    }
   ],
   "source": [
    "input_data = np.array([[0,0,1],\n",
    "                       [0,1,1],\n",
    "                       [1,0,1],\n",
    "                       [1,1,1]])\n",
    "                \n",
    "output_labels = np.array([[0],\n",
    "                          [1],\n",
    "                          [1],\n",
    "                          [0]])\n",
    "\n",
    "output_labels.shape"
   ]
  },
  {
   "cell_type": "code",
   "execution_count": 163,
   "metadata": {},
   "outputs": [
    {
     "name": "stdout",
     "output_type": "stream",
     "text": [
      "[(4, 3), (6, 4), (1, 6)]\n",
      "(4, 1)\n",
      "[array([[0, 0, 1],\n",
      "       [0, 1, 1],\n",
      "       [1, 0, 1],\n",
      "       [1, 1, 1]]), array([[-0.76149807, -0.67251613, -0.20358051,  0.35437564],\n",
      "       [-0.5073259 , -0.90901274, -0.4740982 ,  0.20584446],\n",
      "       [-0.8228976 , -0.83687666, -0.6825884 ,  0.42031328],\n",
      "       [-0.62004504, -0.9576815 , -0.81536256,  0.27887473]]), array([[ 0.2494126 , -0.02054289, -0.70420034, -0.85154299,  0.10150479,\n",
      "        -0.74016797],\n",
      "       [ 0.1300197 ,  0.19150863, -0.71648036, -0.7141562 , -0.00409856,\n",
      "        -0.6543001 ],\n",
      "       [ 0.56628341,  0.26828841, -0.69746023, -0.80083227,  0.37349865,\n",
      "        -0.84145358],\n",
      "       [ 0.46842662,  0.38692921, -0.69539084, -0.66570201,  0.28777951,\n",
      "        -0.78069302]]), array([[ 0.06349824],\n",
      "       [ 0.17895012],\n",
      "       [ 0.54385783],\n",
      "       [ 0.58133421]])]\n"
     ]
    },
    {
     "ename": "ValueError",
     "evalue": "shapes (4,1) and (4,6) not aligned: 1 (dim 1) != 4 (dim 0)",
     "output_type": "error",
     "traceback": [
      "\u001b[0;31m---------------------------------------------------------------------------\u001b[0m",
      "\u001b[0;31mValueError\u001b[0m                                Traceback (most recent call last)",
      "\u001b[0;32m<ipython-input-163-6f437b79e3fe>\u001b[0m in \u001b[0;36m<module>\u001b[0;34m()\u001b[0m\n\u001b[1;32m      1\u001b[0m \u001b[0mnn\u001b[0m \u001b[0;34m=\u001b[0m \u001b[0mNN\u001b[0m\u001b[0;34m(\u001b[0m\u001b[0minput_data\u001b[0m\u001b[0;34m.\u001b[0m\u001b[0mshape\u001b[0m\u001b[0;34m,\u001b[0m \u001b[0moutput_labels\u001b[0m\u001b[0;34m.\u001b[0m\u001b[0mshape\u001b[0m\u001b[0;34m,\u001b[0m \u001b[0;34m(\u001b[0m\u001b[0;36m4\u001b[0m\u001b[0;34m,\u001b[0m \u001b[0;36m6\u001b[0m\u001b[0;34m)\u001b[0m\u001b[0;34m)\u001b[0m\u001b[0;34m\u001b[0m\u001b[0m\n\u001b[1;32m      2\u001b[0m \u001b[0;34m\u001b[0m\u001b[0m\n\u001b[0;32m----> 3\u001b[0;31m \u001b[0mnn\u001b[0m\u001b[0;34m.\u001b[0m\u001b[0mtrain\u001b[0m\u001b[0;34m(\u001b[0m\u001b[0minput_data\u001b[0m\u001b[0;34m,\u001b[0m \u001b[0moutput_labels\u001b[0m\u001b[0;34m)\u001b[0m\u001b[0;34m\u001b[0m\u001b[0m\n\u001b[0m",
      "\u001b[0;32m<ipython-input-161-dc9c1503d569>\u001b[0m in \u001b[0;36mtrain\u001b[0;34m(self, X, y, epochs)\u001b[0m\n\u001b[1;32m     70\u001b[0m \u001b[0;34m\u001b[0m\u001b[0m\n\u001b[1;32m     71\u001b[0m             \u001b[0;31m# backward step\u001b[0m\u001b[0;34m\u001b[0m\u001b[0;34m\u001b[0m\u001b[0m\n\u001b[0;32m---> 72\u001b[0;31m             \u001b[0mprint\u001b[0m\u001b[0;34m(\u001b[0m\u001b[0mself\u001b[0m\u001b[0;34m.\u001b[0m\u001b[0mbackward_prop\u001b[0m\u001b[0;34m(\u001b[0m\u001b[0my\u001b[0m\u001b[0;34m,\u001b[0m \u001b[0mpredictions\u001b[0m\u001b[0;34m)\u001b[0m\u001b[0;34m)\u001b[0m\u001b[0;34m\u001b[0m\u001b[0m\n\u001b[0m\u001b[1;32m     73\u001b[0m \u001b[0;34m\u001b[0m\u001b[0m\n\u001b[1;32m     74\u001b[0m \u001b[0;34m\u001b[0m\u001b[0m\n",
      "\u001b[0;32m<ipython-input-161-dc9c1503d569>\u001b[0m in \u001b[0;36mbackward_prop\u001b[0;34m(self, labels, predictions)\u001b[0m\n\u001b[1;32m     49\u001b[0m                     \u001b[0merror\u001b[0m \u001b[0;34m=\u001b[0m \u001b[0mself\u001b[0m\u001b[0;34m.\u001b[0m\u001b[0mloss\u001b[0m\u001b[0;34m(\u001b[0m\u001b[0mlabels\u001b[0m\u001b[0;34m,\u001b[0m \u001b[0mpredictions\u001b[0m\u001b[0;34m)\u001b[0m\u001b[0;34m\u001b[0m\u001b[0m\n\u001b[1;32m     50\u001b[0m                 \u001b[0;32melse\u001b[0m\u001b[0;34m:\u001b[0m\u001b[0;34m\u001b[0m\u001b[0m\n\u001b[0;32m---> 51\u001b[0;31m                     \u001b[0merror\u001b[0m \u001b[0;34m=\u001b[0m \u001b[0mprev_grad\u001b[0m\u001b[0;34m.\u001b[0m\u001b[0mdot\u001b[0m\u001b[0;34m(\u001b[0m\u001b[0mself\u001b[0m\u001b[0;34m.\u001b[0m\u001b[0mweights\u001b[0m\u001b[0;34m[\u001b[0m\u001b[0mi\u001b[0m\u001b[0;34m]\u001b[0m\u001b[0;34m.\u001b[0m\u001b[0mT\u001b[0m\u001b[0;34m)\u001b[0m\u001b[0;34m\u001b[0m\u001b[0m\n\u001b[0m\u001b[1;32m     52\u001b[0m \u001b[0;34m\u001b[0m\u001b[0m\n\u001b[1;32m     53\u001b[0m                 \u001b[0mgradient\u001b[0m \u001b[0;34m=\u001b[0m \u001b[0merror\u001b[0m\u001b[0;34m*\u001b[0m\u001b[0mself\u001b[0m\u001b[0;34m.\u001b[0m\u001b[0mactivate\u001b[0m\u001b[0;34m(\u001b[0m\u001b[0mself\u001b[0m\u001b[0;34m.\u001b[0m\u001b[0mlayer_outputs\u001b[0m\u001b[0;34m[\u001b[0m\u001b[0mi\u001b[0m\u001b[0;34m+\u001b[0m\u001b[0;36m1\u001b[0m\u001b[0;34m]\u001b[0m\u001b[0;34m,\u001b[0m \u001b[0mderiv\u001b[0m\u001b[0;34m=\u001b[0m\u001b[0;32mTrue\u001b[0m\u001b[0;34m)\u001b[0m\u001b[0;34m\u001b[0m\u001b[0m\n",
      "\u001b[0;31mValueError\u001b[0m: shapes (4,1) and (4,6) not aligned: 1 (dim 1) != 4 (dim 0)"
     ]
    }
   ],
   "source": [
    "nn = NN(input_data.shape, output_labels.shape, (4, 6))\n",
    "\n",
    "nn.train(input_data, output_labels)"
   ]
  },
  {
   "cell_type": "code",
   "execution_count": null,
   "metadata": {},
   "outputs": [],
   "source": []
  }
 ],
 "metadata": {
  "kernelspec": {
   "display_name": "Python 3",
   "language": "python",
   "name": "python3"
  },
  "language_info": {
   "codemirror_mode": {
    "name": "ipython",
    "version": 3
   },
   "file_extension": ".py",
   "mimetype": "text/x-python",
   "name": "python",
   "nbconvert_exporter": "python",
   "pygments_lexer": "ipython3",
   "version": "3.6.3"
  }
 },
 "nbformat": 4,
 "nbformat_minor": 2
}
