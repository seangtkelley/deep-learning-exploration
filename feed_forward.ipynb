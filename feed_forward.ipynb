{
 "cells": [
  {
   "cell_type": "code",
   "execution_count": 136,
   "metadata": {},
   "outputs": [],
   "source": [
    "import numpy as np"
   ]
  },
  {
   "cell_type": "code",
   "execution_count": 144,
   "metadata": {},
   "outputs": [],
   "source": [
    "class NN():\n",
    "    def __init__(self, input_shape, output_shape, layer_perceptrons, learnrate):\n",
    "        # seed so random numbers are the same\n",
    "        np.random.seed(1)\n",
    "        \n",
    "        # create input layer\n",
    "        self.weights = [\n",
    "            2*np.random.random((input_shape[1], layer_perceptrons[0])) - 1\n",
    "        ]\n",
    "                \n",
    "        # create hidden layers\n",
    "        for i in range(1, len(layer_perceptrons), 1):\n",
    "            self.weights.append(2*np.random.random((layer_perceptrons[i-1], layer_perceptrons[i])) - 1)\n",
    "            \n",
    "        # create output layer\n",
    "        self.weights.append(2*np.random.random((layer_perceptrons[-1], output_shape[1])) - 1)\n",
    "            \n",
    "        # create layer outputs\n",
    "        self.layer_outputs = []\n",
    "        \n",
    "        # set learn rate\n",
    "        self.learnrate = learnrate\n",
    "            \n",
    "        print([x.shape for x in self.weights])\n",
    "        \n",
    "\n",
    "    def activate(self, x, deriv=False):\n",
    "        if deriv:\n",
    "            return 1 - (np.tanh(x))**2\n",
    "        else:\n",
    "            return np.tanh(x)\n",
    "    \n",
    "    def forward_prop(self, data):\n",
    "        # compute layer outputs\n",
    "        self.layer_outputs = [data]\n",
    "        for i in range(len(self.weights)):\n",
    "            self.layer_outputs.append(self.activate(np.dot(self.layer_outputs[i], self.weights[i])))\n",
    "            \n",
    "        return self.layer_outputs[-1]\n",
    "    \n",
    "    def train(self, data, targets, epochs=1000):\n",
    "        for e in range(epochs):\n",
    "            # create empty weight change matrices\n",
    "            delta_weights = []\n",
    "            for i in range(len(self.weights)):\n",
    "                delta_weights.append(np.zeros(self.weights[i].shape))\n",
    "            \n",
    "            # loop through data point by point\n",
    "            for x, y in zip(data, targets):\n",
    "                \n",
    "                ## Forward pass ##\n",
    "                output = self.forward_prop(x)\n",
    "                \n",
    "                ## Backward pass ##\n",
    "                prev_error_term = 0\n",
    "                for layer in range(len(self.weights)-1, -1, -1):\n",
    "                    if layer == len(self.weights)-1:\n",
    "                        # Calculate error term for the output unit\n",
    "                        error = y - output\n",
    "                        error_term = error * self.activate(output, deriv=True)\n",
    "                        \n",
    "                        delta_weights[layer] += error_term*output\n",
    "                    else:\n",
    "                        # Calculate the error term for the hidden layers\n",
    "                        error_term = prev_error_term * self.weights[layer] * self.activate(self.layer_outputs[layer], deriv=True)[:,None]\n",
    "                        \n",
    "                        if layer == 0: # for input layer\n",
    "                            delta_weights[layer] += error_term*x[:,None]\n",
    "                        else:\n",
    "                            delta_weights[layer] += error_term*self.layer_outputs[layer][:,None]\n",
    "                            \n",
    "                    prev_error_term = error_term\n",
    "\n",
    "            # Update weights\n",
    "            for i in range(len(self.weights)):\n",
    "                self.weights[i] += self.learnrate*delta_weights[i]/data.shape[0]\n",
    "            \n",
    "            # print MSE\n",
    "            if e % (epochs / 10) == 0:\n",
    "                loss = np.mean((self.forward_prop(data) - targets) ** 2)\n",
    "\n",
    "                if 'last_loss' in locals() and last_loss < loss:\n",
    "                    print(\"Train loss: \", loss, \"  WARNING - Loss Increasing\")\n",
    "                else:\n",
    "                    print(\"Train loss: \", loss)\n",
    "                last_loss = loss\n",
    "            \n",
    "    \n",
    "    \n",
    "    def predict(self, X):\n",
    "        return self.forward_pass(X)\n",
    "    "
   ]
  },
  {
   "cell_type": "code",
   "execution_count": 145,
   "metadata": {},
   "outputs": [
    {
     "data": {
      "text/plain": [
       "(4, 1)"
      ]
     },
     "execution_count": 145,
     "metadata": {},
     "output_type": "execute_result"
    }
   ],
   "source": [
    "input_data = np.array([[0,0,1],\n",
    "                       [0,1,1],\n",
    "                       [1,0,1],\n",
    "                       [1,1,1]])\n",
    "                \n",
    "output_labels = np.array([[0],\n",
    "                          [1],\n",
    "                          [1],\n",
    "                          [0]])\n",
    "\n",
    "output_labels.shape"
   ]
  },
  {
   "cell_type": "code",
   "execution_count": 146,
   "metadata": {},
   "outputs": [
    {
     "name": "stdout",
     "output_type": "stream",
     "text": [
      "[(3, 3), (3, 1), (1, 1)]\n",
      "Train loss:  0.354939381347\n",
      "Train loss:  0.370121477323   WARNING - Loss Increasing\n",
      "Train loss:  0.384506422149   WARNING - Loss Increasing\n",
      "Train loss:  0.397893627808   WARNING - Loss Increasing\n",
      "Train loss:  0.410166071176   WARNING - Loss Increasing\n",
      "Train loss:  0.421279149053   WARNING - Loss Increasing\n",
      "Train loss:  0.431244524103   WARNING - Loss Increasing\n",
      "Train loss:  0.440113272136   WARNING - Loss Increasing\n",
      "Train loss:  0.447960984393   WARNING - Loss Increasing\n",
      "Train loss:  0.454875978455   WARNING - Loss Increasing\n"
     ]
    }
   ],
   "source": [
    "nn = NN(input_data.shape, output_labels.shape, (3, 1), 0.005)\n",
    "\n",
    "nn.train(input_data, output_labels)"
   ]
  },
  {
   "cell_type": "code",
   "execution_count": null,
   "metadata": {},
   "outputs": [],
   "source": []
  },
  {
   "cell_type": "code",
   "execution_count": null,
   "metadata": {},
   "outputs": [],
   "source": []
  }
 ],
 "metadata": {
  "kernelspec": {
   "display_name": "Python 3",
   "language": "python",
   "name": "python3"
  },
  "language_info": {
   "codemirror_mode": {
    "name": "ipython",
    "version": 3
   },
   "file_extension": ".py",
   "mimetype": "text/x-python",
   "name": "python",
   "nbconvert_exporter": "python",
   "pygments_lexer": "ipython3",
   "version": "3.6.3"
  }
 },
 "nbformat": 4,
 "nbformat_minor": 2
}
